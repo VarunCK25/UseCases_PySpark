{
 "cells": [
  {
   "cell_type": "markdown",
   "metadata": {},
   "source": [
    "# IPL Matches Data Analysis Using Spark"
   ]
  },
  {
   "cell_type": "markdown",
   "metadata": {},
   "source": [
    "Let’s mine the data of IPL and derive some important primitives from it like which stadium is most suitable for batting first and which stadium is most suitable for bowling first.\n",
    "\n",
    "Here is the data set description:\n",
    "\n",
    "**id,season,city,date,team1,team2,toss_winner,toss_decision,result,dl_applied,winner,win_by_runs,win_by_wickets,player_of_match,venue,umpire1,umpire2,umpire3**\n"
   ]
  },
  {
   "cell_type": "code",
   "execution_count": 1,
   "metadata": {},
   "outputs": [],
   "source": [
    "import findspark\n",
    "findspark.init()\n",
    "import pyspark"
   ]
  },
  {
   "cell_type": "code",
   "execution_count": 2,
   "metadata": {},
   "outputs": [],
   "source": [
    "from pyspark.sql import SparkSession"
   ]
  },
  {
   "cell_type": "code",
   "execution_count": 3,
   "metadata": {},
   "outputs": [],
   "source": [
    "spark = SparkSession.builder.appName('usecase_6').getOrCreate()"
   ]
  },
  {
   "cell_type": "code",
   "execution_count": 4,
   "metadata": {},
   "outputs": [],
   "source": [
    "sc = spark.sparkContext"
   ]
  },
  {
   "cell_type": "code",
   "execution_count": 5,
   "metadata": {},
   "outputs": [],
   "source": [
    "sc.setLogLevel('ERROR')"
   ]
  },
  {
   "cell_type": "code",
   "execution_count": null,
   "metadata": {},
   "outputs": [],
   "source": []
  },
  {
   "cell_type": "markdown",
   "metadata": {},
   "source": [
    "### IPL Data"
   ]
  },
  {
   "cell_type": "code",
   "execution_count": 8,
   "metadata": {},
   "outputs": [],
   "source": [
    "df = spark.read.format('csv').options(header=False, inferSchema=True).load('matches.csv')"
   ]
  },
  {
   "cell_type": "code",
   "execution_count": 9,
   "metadata": {},
   "outputs": [
    {
     "name": "stdout",
     "output_type": "stream",
     "text": [
      "+---+----+----------+-------------------+--------------------+--------------------+--------------------+-----+------+---+--------------------+----+----+-----------+--------------------+---------+--------------+----+\n",
      "|_c0| _c1|       _c2|                _c3|                 _c4|                 _c5|                 _c6|  _c7|   _c8|_c9|                _c10|_c11|_c12|       _c13|                _c14|     _c15|          _c16|_c17|\n",
      "+---+----+----------+-------------------+--------------------+--------------------+--------------------+-----+------+---+--------------------+----+----+-----------+--------------------+---------+--------------+----+\n",
      "|  1|2008| Bangalore|2008-04-18 00:00:00|Kolkata Knight Ri...|Royal Challengers...|Royal Challengers...|field|normal|  0|Kolkata Knight Ri...| 140|   0|BB McCullum|M Chinnaswamy Sta...|Asad Rauf|   RE Koertzen|null|\n",
      "|  2|2008|Chandigarh|2008-04-19 00:00:00| Chennai Super Kings|     Kings XI Punjab| Chennai Super Kings|  bat|normal|  0| Chennai Super Kings|  33|   0| MEK Hussey|Punjab Cricket As...|MR Benson|    SL Shastri|null|\n",
      "|  3|2008|     Delhi|2008-04-19 00:00:00|    Rajasthan Royals|    Delhi Daredevils|    Rajasthan Royals|  bat|normal|  0|    Delhi Daredevils|   0|   9|MF Maharoof|    Feroz Shah Kotla|Aleem Dar|GA Pratapkumar|null|\n",
      "+---+----+----------+-------------------+--------------------+--------------------+--------------------+-----+------+---+--------------------+----+----+-----------+--------------------+---------+--------------+----+\n",
      "only showing top 3 rows\n",
      "\n"
     ]
    }
   ],
   "source": [
    "df.show(3)"
   ]
  },
  {
   "cell_type": "code",
   "execution_count": 10,
   "metadata": {},
   "outputs": [
    {
     "data": {
      "text/plain": [
       "577"
      ]
     },
     "execution_count": 10,
     "metadata": {},
     "output_type": "execute_result"
    }
   ],
   "source": [
    "df.count()"
   ]
  },
  {
   "cell_type": "code",
   "execution_count": 11,
   "metadata": {},
   "outputs": [
    {
     "name": "stdout",
     "output_type": "stream",
     "text": [
      "root\n",
      " |-- _c0: integer (nullable = true)\n",
      " |-- _c1: integer (nullable = true)\n",
      " |-- _c2: string (nullable = true)\n",
      " |-- _c3: timestamp (nullable = true)\n",
      " |-- _c4: string (nullable = true)\n",
      " |-- _c5: string (nullable = true)\n",
      " |-- _c6: string (nullable = true)\n",
      " |-- _c7: string (nullable = true)\n",
      " |-- _c8: string (nullable = true)\n",
      " |-- _c9: integer (nullable = true)\n",
      " |-- _c10: string (nullable = true)\n",
      " |-- _c11: integer (nullable = true)\n",
      " |-- _c12: integer (nullable = true)\n",
      " |-- _c13: string (nullable = true)\n",
      " |-- _c14: string (nullable = true)\n",
      " |-- _c15: string (nullable = true)\n",
      " |-- _c16: string (nullable = true)\n",
      " |-- _c17: string (nullable = true)\n",
      "\n"
     ]
    }
   ],
   "source": [
    "df.printSchema()"
   ]
  },
  {
   "cell_type": "code",
   "execution_count": 12,
   "metadata": {},
   "outputs": [],
   "source": [
    "headers = ['id','season','city','date','team1','team2','toss_winner','toss_decision','result'\n",
    "           ,'dl_applied','winner','win_by_runs','win_by_wickets','player_of_match','venue','umpire1'\n",
    "           ,'umpire2','umpire3']"
   ]
  },
  {
   "cell_type": "code",
   "execution_count": 14,
   "metadata": {},
   "outputs": [
    {
     "data": {
      "text/plain": [
       "18"
      ]
     },
     "execution_count": 14,
     "metadata": {},
     "output_type": "execute_result"
    }
   ],
   "source": [
    "len(headers)"
   ]
  },
  {
   "cell_type": "code",
   "execution_count": 15,
   "metadata": {},
   "outputs": [],
   "source": [
    "for i,col in enumerate(df.columns):\n",
    "    df = df.withColumnRenamed(col,headers[i])"
   ]
  },
  {
   "cell_type": "code",
   "execution_count": 16,
   "metadata": {},
   "outputs": [
    {
     "name": "stdout",
     "output_type": "stream",
     "text": [
      "root\n",
      " |-- id: integer (nullable = true)\n",
      " |-- season: integer (nullable = true)\n",
      " |-- city: string (nullable = true)\n",
      " |-- date: timestamp (nullable = true)\n",
      " |-- team1: string (nullable = true)\n",
      " |-- team2: string (nullable = true)\n",
      " |-- toss_winner: string (nullable = true)\n",
      " |-- toss_decision: string (nullable = true)\n",
      " |-- result: string (nullable = true)\n",
      " |-- dl_applied: integer (nullable = true)\n",
      " |-- winner: string (nullable = true)\n",
      " |-- win_by_runs: integer (nullable = true)\n",
      " |-- win_by_wickets: integer (nullable = true)\n",
      " |-- player_of_match: string (nullable = true)\n",
      " |-- venue: string (nullable = true)\n",
      " |-- umpire1: string (nullable = true)\n",
      " |-- umpire2: string (nullable = true)\n",
      " |-- umpire3: string (nullable = true)\n",
      "\n"
     ]
    }
   ],
   "source": [
    "df.printSchema()"
   ]
  },
  {
   "cell_type": "code",
   "execution_count": 17,
   "metadata": {},
   "outputs": [
    {
     "name": "stdout",
     "output_type": "stream",
     "text": [
      "+---+------+----------+-------------------+--------------------+--------------------+--------------------+-------------+------+----------+--------------------+-----------+--------------+---------------+--------------------+---------+--------------+-------+\n",
      "| id|season|      city|               date|               team1|               team2|         toss_winner|toss_decision|result|dl_applied|              winner|win_by_runs|win_by_wickets|player_of_match|               venue|  umpire1|       umpire2|umpire3|\n",
      "+---+------+----------+-------------------+--------------------+--------------------+--------------------+-------------+------+----------+--------------------+-----------+--------------+---------------+--------------------+---------+--------------+-------+\n",
      "|  1|  2008| Bangalore|2008-04-18 00:00:00|Kolkata Knight Ri...|Royal Challengers...|Royal Challengers...|        field|normal|         0|Kolkata Knight Ri...|        140|             0|    BB McCullum|M Chinnaswamy Sta...|Asad Rauf|   RE Koertzen|   null|\n",
      "|  2|  2008|Chandigarh|2008-04-19 00:00:00| Chennai Super Kings|     Kings XI Punjab| Chennai Super Kings|          bat|normal|         0| Chennai Super Kings|         33|             0|     MEK Hussey|Punjab Cricket As...|MR Benson|    SL Shastri|   null|\n",
      "|  3|  2008|     Delhi|2008-04-19 00:00:00|    Rajasthan Royals|    Delhi Daredevils|    Rajasthan Royals|          bat|normal|         0|    Delhi Daredevils|          0|             9|    MF Maharoof|    Feroz Shah Kotla|Aleem Dar|GA Pratapkumar|   null|\n",
      "+---+------+----------+-------------------+--------------------+--------------------+--------------------+-------------+------+----------+--------------------+-----------+--------------+---------------+--------------------+---------+--------------+-------+\n",
      "only showing top 3 rows\n",
      "\n"
     ]
    }
   ],
   "source": [
    "df.show(3)"
   ]
  },
  {
   "cell_type": "code",
   "execution_count": 30,
   "metadata": {},
   "outputs": [],
   "source": [
    "from pyspark.sql.functions import desc"
   ]
  },
  {
   "cell_type": "code",
   "execution_count": null,
   "metadata": {},
   "outputs": [],
   "source": []
  },
  {
   "cell_type": "markdown",
   "metadata": {},
   "source": [
    "### 1.Which stadium is best suitable for first batting ?"
   ]
  },
  {
   "cell_type": "markdown",
   "metadata": {},
   "source": [
    "##### Total no of matches won in each stadium by Batting First"
   ]
  },
  {
   "cell_type": "code",
   "execution_count": 38,
   "metadata": {},
   "outputs": [],
   "source": [
    "matches_won_df = df.filter(df['win_by_runs'] > 0).groupBy('venue').count().orderBy(desc('count'))"
   ]
  },
  {
   "cell_type": "code",
   "execution_count": 39,
   "metadata": {},
   "outputs": [
    {
     "name": "stdout",
     "output_type": "stream",
     "text": [
      "+-------------------------------+-----+\n",
      "|venue                          |count|\n",
      "+-------------------------------+-----+\n",
      "|MA Chidambaram Stadium, Chepauk|30   |\n",
      "|Wankhede Stadium               |25   |\n",
      "|M Chinnaswamy Stadium          |24   |\n",
      "|Feroz Shah Kotla               |24   |\n",
      "|Eden Gardens                   |22   |\n",
      "+-------------------------------+-----+\n",
      "only showing top 5 rows\n",
      "\n"
     ]
    }
   ],
   "source": [
    "matches_won_df.show(5,truncate=False)"
   ]
  },
  {
   "cell_type": "code",
   "execution_count": 42,
   "metadata": {},
   "outputs": [],
   "source": [
    "matches_won_df.createOrReplaceTempView('matches_won_venue')"
   ]
  },
  {
   "cell_type": "markdown",
   "metadata": {},
   "source": [
    "##### Total no of matches played in each stadium"
   ]
  },
  {
   "cell_type": "code",
   "execution_count": 40,
   "metadata": {},
   "outputs": [],
   "source": [
    "all_matches_df = df.groupBy('venue').count().orderBy(desc('count'))"
   ]
  },
  {
   "cell_type": "code",
   "execution_count": 41,
   "metadata": {},
   "outputs": [
    {
     "name": "stdout",
     "output_type": "stream",
     "text": [
      "+-------------------------------+-----+\n",
      "|venue                          |count|\n",
      "+-------------------------------+-----+\n",
      "|M Chinnaswamy Stadium          |58   |\n",
      "|Eden Gardens                   |54   |\n",
      "|Feroz Shah Kotla               |53   |\n",
      "|Wankhede Stadium               |49   |\n",
      "|MA Chidambaram Stadium, Chepauk|48   |\n",
      "+-------------------------------+-----+\n",
      "only showing top 5 rows\n",
      "\n"
     ]
    }
   ],
   "source": [
    "all_matches_df.show(5,truncate=False)"
   ]
  },
  {
   "cell_type": "code",
   "execution_count": 43,
   "metadata": {},
   "outputs": [],
   "source": [
    "all_matches_df.createOrReplaceTempView('all_matches_venue')"
   ]
  },
  {
   "cell_type": "code",
   "execution_count": 49,
   "metadata": {},
   "outputs": [],
   "source": [
    "successful_stadium = spark.sql(\"SELECT m.venue, (m.count/a.count)*100 AS win_percent \\\n",
    "                                FROM all_matches_venue a JOIN matches_won_venue m \\\n",
    "                                ON a.venue = m.venue ORDER BY win_percent DESC\")"
   ]
  },
  {
   "cell_type": "code",
   "execution_count": 50,
   "metadata": {},
   "outputs": [
    {
     "name": "stdout",
     "output_type": "stream",
     "text": [
      "+---------------------------------------------------+-----------------+\n",
      "|venue                                              |win_percent      |\n",
      "+---------------------------------------------------+-----------------+\n",
      "|Buffalo Park                                       |66.66666666666666|\n",
      "|Vidarbha Cricket Association Stadium, Jamtha       |66.66666666666666|\n",
      "|Subrata Roy Sahara Stadium                         |64.70588235294117|\n",
      "|Dr. Y.S. Rajasekhara Reddy ACA-VDCA Cricket Stadium|63.63636363636363|\n",
      "|MA Chidambaram Stadium, Chepauk                    |62.5             |\n",
      "+---------------------------------------------------+-----------------+\n",
      "only showing top 5 rows\n",
      "\n"
     ]
    }
   ],
   "source": [
    "successful_stadium.show(5, truncate=False)"
   ]
  },
  {
   "cell_type": "code",
   "execution_count": null,
   "metadata": {},
   "outputs": [],
   "source": []
  },
  {
   "cell_type": "markdown",
   "metadata": {},
   "source": [
    "### 2.Which stadium is best suitable for first bowling"
   ]
  },
  {
   "cell_type": "markdown",
   "metadata": {},
   "source": [
    "##### Total no of matches won in each stadium by Bowling First"
   ]
  },
  {
   "cell_type": "code",
   "execution_count": 56,
   "metadata": {},
   "outputs": [],
   "source": [
    "matches_won_bowling_df = df.filter(df['win_by_wickets'] > 0).groupBy('venue').count().orderBy(desc('count'))"
   ]
  },
  {
   "cell_type": "code",
   "execution_count": 57,
   "metadata": {},
   "outputs": [
    {
     "name": "stdout",
     "output_type": "stream",
     "text": [
      "+-----------------------------------------+-----+\n",
      "|venue                                    |count|\n",
      "+-----------------------------------------+-----+\n",
      "|Eden Gardens                             |32   |\n",
      "|M Chinnaswamy Stadium                    |31   |\n",
      "|Feroz Shah Kotla                         |28   |\n",
      "|Rajiv Gandhi International Stadium, Uppal|26   |\n",
      "|Wankhede Stadium                         |24   |\n",
      "+-----------------------------------------+-----+\n",
      "only showing top 5 rows\n",
      "\n"
     ]
    }
   ],
   "source": [
    "matches_won_bowling_df.show(5,truncate=False)"
   ]
  },
  {
   "cell_type": "code",
   "execution_count": 58,
   "metadata": {},
   "outputs": [],
   "source": [
    "matches_won_bowling_df.createOrReplaceTempView('matches_won_bowling')"
   ]
  },
  {
   "cell_type": "code",
   "execution_count": 59,
   "metadata": {},
   "outputs": [],
   "source": [
    "successful_stadium_bowling = spark.sql(\"SELECT m.venue, (m.count/a.count)*100 AS win_percent \\\n",
    "                                FROM all_matches_venue a JOIN matches_won_bowling m \\\n",
    "                                ON a.venue = m.venue ORDER BY win_percent DESC\")"
   ]
  },
  {
   "cell_type": "code",
   "execution_count": 60,
   "metadata": {},
   "outputs": [
    {
     "name": "stdout",
     "output_type": "stream",
     "text": [
      "+--------------------------------------+-----------------+\n",
      "|venue                                 |win_percent      |\n",
      "+--------------------------------------+-----------------+\n",
      "|Holkar Cricket Stadium                |100.0            |\n",
      "|Green Park                            |100.0            |\n",
      "|Saurashtra Cricket Association Stadium|80.0             |\n",
      "|JSCA International Stadium Complex    |71.42857142857143|\n",
      "|Sawai Mansingh Stadium                |69.6969696969697 |\n",
      "+--------------------------------------+-----------------+\n",
      "only showing top 5 rows\n",
      "\n"
     ]
    }
   ],
   "source": [
    "successful_stadium_bowling.show(5, truncate=False)"
   ]
  },
  {
   "cell_type": "code",
   "execution_count": null,
   "metadata": {},
   "outputs": [],
   "source": []
  },
  {
   "cell_type": "markdown",
   "metadata": {},
   "source": [
    "## Closing Spark Session"
   ]
  },
  {
   "cell_type": "code",
   "execution_count": 61,
   "metadata": {},
   "outputs": [],
   "source": [
    "spark.stop()"
   ]
  }
 ],
 "metadata": {
  "kernelspec": {
   "display_name": "Python 3",
   "language": "python",
   "name": "python3"
  },
  "language_info": {
   "codemirror_mode": {
    "name": "ipython",
    "version": 3
   },
   "file_extension": ".py",
   "mimetype": "text/x-python",
   "name": "python",
   "nbconvert_exporter": "python",
   "pygments_lexer": "ipython3",
   "version": "3.7.4"
  }
 },
 "nbformat": 4,
 "nbformat_minor": 2
}
