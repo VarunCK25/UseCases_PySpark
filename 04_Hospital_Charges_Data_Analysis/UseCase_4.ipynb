{
 "cells": [
  {
   "cell_type": "code",
   "execution_count": 1,
   "metadata": {},
   "outputs": [],
   "source": [
    "import findspark\n",
    "findspark.init()\n",
    "import pyspark"
   ]
  },
  {
   "cell_type": "code",
   "execution_count": 2,
   "metadata": {},
   "outputs": [],
   "source": [
    "from pyspark.sql import SparkSession"
   ]
  },
  {
   "cell_type": "code",
   "execution_count": 3,
   "metadata": {},
   "outputs": [],
   "source": [
    "spark = SparkSession.builder.appName('usecase_4').getOrCreate()"
   ]
  },
  {
   "cell_type": "code",
   "execution_count": 4,
   "metadata": {},
   "outputs": [],
   "source": [
    "sc = spark.sparkContext"
   ]
  },
  {
   "cell_type": "code",
   "execution_count": 5,
   "metadata": {},
   "outputs": [],
   "source": [
    "sc.setLogLevel('ERROR')"
   ]
  },
  {
   "cell_type": "code",
   "execution_count": null,
   "metadata": {},
   "outputs": [],
   "source": []
  },
  {
   "cell_type": "markdown",
   "metadata": {},
   "source": [
    "### Hospital Charges Data"
   ]
  },
  {
   "cell_type": "code",
   "execution_count": 7,
   "metadata": {},
   "outputs": [],
   "source": [
    "hospital_df = spark.read.options(header=True, inferSchema=True).csv(\"inpatientCharges.csv\")"
   ]
  },
  {
   "cell_type": "code",
   "execution_count": 9,
   "metadata": {},
   "outputs": [
    {
     "name": "stdout",
     "output_type": "stream",
     "text": [
      "+--------------------+----------+--------------------+---------------------+------------+-------------+---------------+---------------------------------+---------------+---------------------+--------------------+-----------------------+\n",
      "|       DRGDefinition|ProviderId|        ProviderName|ProviderStreetAddress|ProviderCity|ProviderState|ProviderZipCode|HospitalReferralRegionDescription|TotalDischarges|AverageCoveredCharges|AverageTotalPayments|AverageMedicarePayments|\n",
      "+--------------------+----------+--------------------+---------------------+------------+-------------+---------------+---------------------------------+---------------+---------------------+--------------------+-----------------------+\n",
      "|039 - EXTRACRANIA...|     10001|SOUTHEAST ALABAMA...| 1108 ROSS CLARK C...|      DOTHAN|           AL|          36301|                      AL - Dothan|             91|             32963.07|             5777.24|                4763.73|\n",
      "|039 - EXTRACRANIA...|     10005|MARSHALL MEDICAL ...| 2505 U S HIGHWAY ...|        BOAZ|           AL|          35957|                  AL - Birmingham|             14|             15131.85|             5787.57|                4976.71|\n",
      "|039 - EXTRACRANIA...|     10006|ELIZA COFFEE MEMO...|   205 MARENGO STREET|    FLORENCE|           AL|          35631|                  AL - Birmingham|             24|             37560.37|             5434.95|                4453.79|\n",
      "+--------------------+----------+--------------------+---------------------+------------+-------------+---------------+---------------------------------+---------------+---------------------+--------------------+-----------------------+\n",
      "only showing top 3 rows\n",
      "\n"
     ]
    }
   ],
   "source": [
    "hospital_df.show(3)"
   ]
  },
  {
   "cell_type": "code",
   "execution_count": 11,
   "metadata": {},
   "outputs": [
    {
     "name": "stdout",
     "output_type": "stream",
     "text": [
      "root\n",
      " |-- DRGDefinition: string (nullable = true)\n",
      " |-- ProviderId: integer (nullable = true)\n",
      " |-- ProviderName: string (nullable = true)\n",
      " |-- ProviderStreetAddress: string (nullable = true)\n",
      " |-- ProviderCity: string (nullable = true)\n",
      " |-- ProviderState: string (nullable = true)\n",
      " |-- ProviderZipCode: integer (nullable = true)\n",
      " |-- HospitalReferralRegionDescription: string (nullable = true)\n",
      " |-- TotalDischarges: integer (nullable = true)\n",
      " |-- AverageCoveredCharges: double (nullable = true)\n",
      " |-- AverageTotalPayments: double (nullable = true)\n",
      " |-- AverageMedicarePayments: double (nullable = true)\n",
      "\n"
     ]
    }
   ],
   "source": [
    "hospital_df.printSchema()"
   ]
  },
  {
   "cell_type": "code",
   "execution_count": 12,
   "metadata": {},
   "outputs": [
    {
     "data": {
      "text/plain": [
       "163065"
      ]
     },
     "execution_count": 12,
     "metadata": {},
     "output_type": "execute_result"
    }
   ],
   "source": [
    "hospital_df.count()"
   ]
  },
  {
   "cell_type": "code",
   "execution_count": null,
   "metadata": {},
   "outputs": [],
   "source": []
  },
  {
   "cell_type": "markdown",
   "metadata": {},
   "source": [
    "### Problem Statement 1: Find the amount of Average Covered Charges per state."
   ]
  },
  {
   "cell_type": "code",
   "execution_count": 17,
   "metadata": {},
   "outputs": [
    {
     "name": "stdout",
     "output_type": "stream",
     "text": [
      "+-------------+--------------------------+\n",
      "|ProviderState|avg(AverageCoveredCharges)|\n",
      "+-------------+--------------------------+\n",
      "|           AZ|         41200.06301999297|\n",
      "|           SC|         35862.49456269757|\n",
      "|           LA|        33085.372791542744|\n",
      "|           MN|         27894.36182060391|\n",
      "|           NJ|         66125.68627434727|\n",
      "+-------------+--------------------------+\n",
      "only showing top 5 rows\n",
      "\n"
     ]
    }
   ],
   "source": [
    "hospital_df.groupBy('ProviderState').agg({'AverageCoveredCharges':'avg'}).show(5)"
   ]
  },
  {
   "cell_type": "markdown",
   "metadata": {},
   "source": [
    "### Problem Statement 2: Find the amount of Average Total Payments charges per state."
   ]
  },
  {
   "cell_type": "code",
   "execution_count": 18,
   "metadata": {},
   "outputs": [
    {
     "name": "stdout",
     "output_type": "stream",
     "text": [
      "+-------------+-------------------------+\n",
      "|ProviderState|avg(AverageTotalPayments)|\n",
      "+-------------+-------------------------+\n",
      "|           AZ|       10154.528211153982|\n",
      "|           SC|         9132.42075869336|\n",
      "|           LA|        8638.662576808716|\n",
      "|           MN|         9948.23696269982|\n",
      "|           NJ|       10678.988646912556|\n",
      "+-------------+-------------------------+\n",
      "only showing top 5 rows\n",
      "\n"
     ]
    }
   ],
   "source": [
    "hospital_df.groupBy('ProviderState').agg({'AverageTotalPayments':'avg'}).show(5)"
   ]
  },
  {
   "cell_type": "markdown",
   "metadata": {},
   "source": [
    "### Problem Statement 3: Find the amount of Average Medicare Payments charges per state."
   ]
  },
  {
   "cell_type": "code",
   "execution_count": 19,
   "metadata": {},
   "outputs": [
    {
     "name": "stdout",
     "output_type": "stream",
     "text": [
      "+-------------+----------------------------+\n",
      "|ProviderState|avg(AverageMedicarePayments)|\n",
      "+-------------+----------------------------+\n",
      "|           AZ|           8825.717239565063|\n",
      "|           SC|           7876.331524411663|\n",
      "|           LA|           7387.704625041294|\n",
      "|           MN|            8619.21498223801|\n",
      "|           NJ|            9586.94005594695|\n",
      "+-------------+----------------------------+\n",
      "only showing top 5 rows\n",
      "\n"
     ]
    }
   ],
   "source": [
    "hospital_df.groupBy('ProviderState').agg({'AverageMedicarePayments':'avg'}).show(5)"
   ]
  },
  {
   "cell_type": "markdown",
   "metadata": {},
   "source": [
    "### Problem Statement 4: Find out the total number of Discharges per state and for each disease."
   ]
  },
  {
   "cell_type": "code",
   "execution_count": 21,
   "metadata": {
    "scrolled": true
   },
   "outputs": [
    {
     "name": "stdout",
     "output_type": "stream",
     "text": [
      "+-------------+--------------------+--------------------+\n",
      "|ProviderState|       DRGDefinition|sum(TotalDischarges)|\n",
      "+-------------+--------------------+--------------------+\n",
      "|           KY|065 - INTRACRANIA...|                1937|\n",
      "|           NY|101 - SEIZURES W/...|                4503|\n",
      "|           IN|149 - DYSEQUILIBRIUM|                 700|\n",
      "|           IA|178 - RESPIRATORY...|                 540|\n",
      "|           WI|202 - BRONCHITIS ...|                 338|\n",
      "+-------------+--------------------+--------------------+\n",
      "only showing top 5 rows\n",
      "\n"
     ]
    }
   ],
   "source": [
    "hospital_df.groupBy('ProviderState','DRGDefinition').agg({'TotalDischarges':'sum'}).show(5)"
   ]
  },
  {
   "cell_type": "code",
   "execution_count": 22,
   "metadata": {},
   "outputs": [],
   "source": [
    "from pyspark.sql.functions import desc,col"
   ]
  },
  {
   "cell_type": "markdown",
   "metadata": {},
   "source": [
    "##### Sort By Asc"
   ]
  },
  {
   "cell_type": "code",
   "execution_count": 29,
   "metadata": {},
   "outputs": [
    {
     "name": "stdout",
     "output_type": "stream",
     "text": [
      "+-------------+--------------------+--------------------+\n",
      "|ProviderState|       DRGDefinition|sum(TotalDischarges)|\n",
      "+-------------+--------------------+--------------------+\n",
      "|           MT|251 - PERC CARDIO...|                  11|\n",
      "|           UT|563 - FX, SPRN, S...|                  11|\n",
      "|           ID|305 - HYPERTENSIO...|                  11|\n",
      "|           WY|202 - BRONCHITIS ...|                  11|\n",
      "|           AK|419 - LAPAROSCOPI...|                  11|\n",
      "+-------------+--------------------+--------------------+\n",
      "only showing top 5 rows\n",
      "\n"
     ]
    }
   ],
   "source": [
    "hospital_df.groupBy('ProviderState','DRGDefinition').agg({'TotalDischarges':'sum'}).sort('sum(TotalDischarges)').show(5)"
   ]
  },
  {
   "cell_type": "markdown",
   "metadata": {},
   "source": [
    "##### Sort by Desc"
   ]
  },
  {
   "cell_type": "code",
   "execution_count": 32,
   "metadata": {},
   "outputs": [
    {
     "name": "stdout",
     "output_type": "stream",
     "text": [
      "+-------------+--------------------+--------------------+\n",
      "|ProviderState|       DRGDefinition|sum(TotalDischarges)|\n",
      "+-------------+--------------------+--------------------+\n",
      "|           CA|871 - SEPTICEMIA ...|               34284|\n",
      "|           TX|470 - MAJOR JOINT...|               30095|\n",
      "|           FL|470 - MAJOR JOINT...|               29985|\n",
      "|           CA|470 - MAJOR JOINT...|               29731|\n",
      "|           TX|871 - SEPTICEMIA ...|               23144|\n",
      "+-------------+--------------------+--------------------+\n",
      "only showing top 5 rows\n",
      "\n"
     ]
    }
   ],
   "source": [
    "hospital_df.groupBy('ProviderState','DRGDefinition').agg({'TotalDischarges':'sum'}).orderBy(desc('sum(TotalDischarges)')).show(5)"
   ]
  },
  {
   "cell_type": "markdown",
   "metadata": {},
   "source": [
    "### Closing spark session"
   ]
  },
  {
   "cell_type": "code",
   "execution_count": 33,
   "metadata": {},
   "outputs": [],
   "source": [
    "spark.stop()"
   ]
  }
 ],
 "metadata": {
  "kernelspec": {
   "display_name": "Python 3",
   "language": "python",
   "name": "python3"
  },
  "language_info": {
   "codemirror_mode": {
    "name": "ipython",
    "version": 3
   },
   "file_extension": ".py",
   "mimetype": "text/x-python",
   "name": "python",
   "nbconvert_exporter": "python",
   "pygments_lexer": "ipython3",
   "version": "3.7.4"
  }
 },
 "nbformat": 4,
 "nbformat_minor": 2
}
