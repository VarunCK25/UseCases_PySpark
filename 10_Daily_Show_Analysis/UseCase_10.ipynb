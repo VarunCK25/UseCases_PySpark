{
 "cells": [
  {
   "cell_type": "markdown",
   "metadata": {},
   "source": [
    "# The Daily Show"
   ]
  },
  {
   "cell_type": "markdown",
   "metadata": {},
   "source": [
    "In this usecase we will be taking a famous Tv show dataset i.e.,The Daily show and we will be performing analysis on the guests who came to the show.\n",
    "\n",
    "**Dataset Description:**\n",
    "\n",
    "- **YEAR** –  The year the episode aired\n",
    "\n",
    "- **GoogleKnowlege_Occupation** -Their occupation or office, according to Google’s Knowledge Graph or, if they’re not in there, how Stewart introduced them on the program.\n",
    "\n",
    "- **Show** – Air date of episode. Not unique, as some shows had more than one guest\n",
    "\n",
    "- **Group** – A larger group designation for the occupation. For instance, us senators, us presidents, and former presidents are all under “politicians”\n",
    "\n",
    "- **Raw_Guest_List** – The person or list of people who appeared on the show, according to Wikipedia. The GoogleKnowlege_Occupation only refers to one of them in a given row.   "
   ]
  },
  {
   "cell_type": "markdown",
   "metadata": {},
   "source": [
    "## Initializing spark session"
   ]
  },
  {
   "cell_type": "code",
   "execution_count": 1,
   "metadata": {},
   "outputs": [],
   "source": [
    "import findspark\n",
    "findspark.init()\n",
    "import pyspark"
   ]
  },
  {
   "cell_type": "code",
   "execution_count": 2,
   "metadata": {},
   "outputs": [],
   "source": [
    "from pyspark.sql import SparkSession"
   ]
  },
  {
   "cell_type": "code",
   "execution_count": 6,
   "metadata": {},
   "outputs": [],
   "source": [
    "spark = SparkSession.builder.appName('usecase_10').getOrCreate()\n",
    "sc = spark.sparkContext\n",
    "sc.setLogLevel('ERROR')"
   ]
  },
  {
   "cell_type": "code",
   "execution_count": null,
   "metadata": {},
   "outputs": [],
   "source": []
  },
  {
   "cell_type": "markdown",
   "metadata": {},
   "source": [
    "### Daily Show Data"
   ]
  },
  {
   "cell_type": "code",
   "execution_count": 7,
   "metadata": {},
   "outputs": [],
   "source": [
    "df = spark.read.format('csv').options(header=False, inferSchema=True).load('daily_show_guests')"
   ]
  },
  {
   "cell_type": "code",
   "execution_count": 8,
   "metadata": {},
   "outputs": [
    {
     "name": "stdout",
     "output_type": "stream",
     "text": [
      "root\n",
      " |-- _c0: integer (nullable = true)\n",
      " |-- _c1: string (nullable = true)\n",
      " |-- _c2: string (nullable = true)\n",
      " |-- _c3: string (nullable = true)\n",
      " |-- _c4: string (nullable = true)\n",
      "\n"
     ]
    }
   ],
   "source": [
    "df.printSchema()"
   ]
  },
  {
   "cell_type": "code",
   "execution_count": 9,
   "metadata": {},
   "outputs": [
    {
     "name": "stdout",
     "output_type": "stream",
     "text": [
      "+----+------------------+-------+------+---------------+\n",
      "| _c0|               _c1|    _c2|   _c3|            _c4|\n",
      "+----+------------------+-------+------+---------------+\n",
      "|1999|             actor|1/11/99|Acting| Michael J. Fox|\n",
      "|1999|          Comedian|1/12/99|Comedy|Sandra Bernhard|\n",
      "|1999|television actress|1/13/99|Acting|  Tracey Ullman|\n",
      "+----+------------------+-------+------+---------------+\n",
      "only showing top 3 rows\n",
      "\n"
     ]
    }
   ],
   "source": [
    "df.show(3)"
   ]
  },
  {
   "cell_type": "code",
   "execution_count": 10,
   "metadata": {},
   "outputs": [],
   "source": [
    "columns = ['YEAR ','GoogleKnowlege_Occupation','Show','Group','Raw_Guest_List']"
   ]
  },
  {
   "cell_type": "code",
   "execution_count": 11,
   "metadata": {},
   "outputs": [],
   "source": [
    "for i,col in enumerate(df.columns):\n",
    "    df = df.withColumnRenamed(col,columns[i])"
   ]
  },
  {
   "cell_type": "code",
   "execution_count": 12,
   "metadata": {},
   "outputs": [
    {
     "name": "stdout",
     "output_type": "stream",
     "text": [
      "root\n",
      " |-- YEAR : integer (nullable = true)\n",
      " |-- GoogleKnowlege_Occupation: string (nullable = true)\n",
      " |-- Show: string (nullable = true)\n",
      " |-- Group: string (nullable = true)\n",
      " |-- Raw_Guest_List: string (nullable = true)\n",
      "\n"
     ]
    }
   ],
   "source": [
    "df.printSchema()"
   ]
  },
  {
   "cell_type": "code",
   "execution_count": 13,
   "metadata": {
    "scrolled": true
   },
   "outputs": [
    {
     "name": "stdout",
     "output_type": "stream",
     "text": [
      "+-----+-------------------------+-------+------+----------------+\n",
      "|YEAR |GoogleKnowlege_Occupation|   Show| Group|  Raw_Guest_List|\n",
      "+-----+-------------------------+-------+------+----------------+\n",
      "| 1999|                    actor|1/11/99|Acting|  Michael J. Fox|\n",
      "| 1999|                 Comedian|1/12/99|Comedy| Sandra Bernhard|\n",
      "| 1999|       television actress|1/13/99|Acting|   Tracey Ullman|\n",
      "| 1999|             film actress|1/14/99|Acting|Gillian Anderson|\n",
      "| 1999|                    actor|1/18/99|Acting|David Alan Grier|\n",
      "+-----+-------------------------+-------+------+----------------+\n",
      "only showing top 5 rows\n",
      "\n"
     ]
    }
   ],
   "source": [
    "df.show(5)"
   ]
  },
  {
   "cell_type": "code",
   "execution_count": 15,
   "metadata": {},
   "outputs": [
    {
     "data": {
      "text/plain": [
       "2693"
      ]
     },
     "execution_count": 15,
     "metadata": {},
     "output_type": "execute_result"
    }
   ],
   "source": [
    "df.count()"
   ]
  },
  {
   "cell_type": "code",
   "execution_count": 23,
   "metadata": {},
   "outputs": [
    {
     "data": {
      "text/plain": [
       "1786"
      ]
     },
     "execution_count": 23,
     "metadata": {},
     "output_type": "execute_result"
    }
   ],
   "source": [
    "df.where(\"Show BETWEEN '1/11/99' AND '6/11/99'\").count()"
   ]
  },
  {
   "cell_type": "code",
   "execution_count": 24,
   "metadata": {},
   "outputs": [],
   "source": [
    "from pyspark.sql.functions import desc,unix_timestamp, from_unixtime"
   ]
  },
  {
   "cell_type": "code",
   "execution_count": null,
   "metadata": {},
   "outputs": [],
   "source": []
  },
  {
   "cell_type": "markdown",
   "metadata": {},
   "source": [
    "### Problem Statement: Find the top 5 kinds of GoogleKnowlege_Occupation people gusted the show in a particular time period."
   ]
  },
  {
   "cell_type": "code",
   "execution_count": 29,
   "metadata": {},
   "outputs": [],
   "source": [
    "df2 = df.select('YEAR ','GoogleKnowlege_Occupation','Show','Group','Raw_Guest_List',from_unixtime(unix_timestamp('Show', 'MM/dd/yy')).alias('Show_date'))"
   ]
  },
  {
   "cell_type": "code",
   "execution_count": 30,
   "metadata": {
    "scrolled": true
   },
   "outputs": [
    {
     "name": "stdout",
     "output_type": "stream",
     "text": [
      "+-----+-------------------------+-------+------+----------------+-------------------+\n",
      "|YEAR |GoogleKnowlege_Occupation|   Show| Group|  Raw_Guest_List|          Show_date|\n",
      "+-----+-------------------------+-------+------+----------------+-------------------+\n",
      "| 1999|                    actor|1/11/99|Acting|  Michael J. Fox|1999-01-11 00:00:00|\n",
      "| 1999|                 Comedian|1/12/99|Comedy| Sandra Bernhard|1999-01-12 00:00:00|\n",
      "| 1999|       television actress|1/13/99|Acting|   Tracey Ullman|1999-01-13 00:00:00|\n",
      "| 1999|             film actress|1/14/99|Acting|Gillian Anderson|1999-01-14 00:00:00|\n",
      "| 1999|                    actor|1/18/99|Acting|David Alan Grier|1999-01-18 00:00:00|\n",
      "+-----+-------------------------+-------+------+----------------+-------------------+\n",
      "only showing top 5 rows\n",
      "\n"
     ]
    }
   ],
   "source": [
    "df2.show(5)"
   ]
  },
  {
   "cell_type": "code",
   "execution_count": 38,
   "metadata": {},
   "outputs": [
    {
     "data": {
      "text/plain": [
       "75"
      ]
     },
     "execution_count": 38,
     "metadata": {},
     "output_type": "execute_result"
    }
   ],
   "source": [
    "df2.where(\"Show_date BETWEEN '1999-01-11 00:00:00' AND '1999-06-11 00:00:00'\").count()"
   ]
  },
  {
   "cell_type": "code",
   "execution_count": 43,
   "metadata": {},
   "outputs": [
    {
     "name": "stdout",
     "output_type": "stream",
     "text": [
      "+-------------------------+-----+\n",
      "|GoogleKnowlege_Occupation|count|\n",
      "+-------------------------+-----+\n",
      "|                    actor|   29|\n",
      "|                  actress|   20|\n",
      "|                 comedian|    4|\n",
      "|       television actress|    3|\n",
      "|               film actor|    2|\n",
      "+-------------------------+-----+\n",
      "only showing top 5 rows\n",
      "\n"
     ]
    }
   ],
   "source": [
    "df2.where(\"Show_date BETWEEN '1999-01-11 00:00:00' AND '1999-06-11 00:00:00'\") \\\n",
    "   .groupBy('GoogleKnowlege_Occupation') \\\n",
    "    .count() \\\n",
    "    .orderBy(desc('count')) \\\n",
    "    .show(5)"
   ]
  },
  {
   "cell_type": "code",
   "execution_count": null,
   "metadata": {},
   "outputs": [],
   "source": []
  },
  {
   "cell_type": "markdown",
   "metadata": {},
   "source": [
    "## Closing Spark Session"
   ]
  },
  {
   "cell_type": "code",
   "execution_count": 44,
   "metadata": {},
   "outputs": [],
   "source": [
    "spark.stop()"
   ]
  }
 ],
 "metadata": {
  "kernelspec": {
   "display_name": "Python 3",
   "language": "python",
   "name": "python3"
  },
  "language_info": {
   "codemirror_mode": {
    "name": "ipython",
    "version": 3
   },
   "file_extension": ".py",
   "mimetype": "text/x-python",
   "name": "python",
   "nbconvert_exporter": "python",
   "pygments_lexer": "ipython3",
   "version": "3.7.4"
  }
 },
 "nbformat": 4,
 "nbformat_minor": 2
}
