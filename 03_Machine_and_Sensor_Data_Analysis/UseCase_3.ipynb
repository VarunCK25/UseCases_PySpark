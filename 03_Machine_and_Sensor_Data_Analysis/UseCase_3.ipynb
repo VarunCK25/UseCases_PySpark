{
 "cells": [
  {
   "cell_type": "code",
   "execution_count": 1,
   "metadata": {},
   "outputs": [],
   "source": [
    "import findspark\n",
    "findspark.init()\n",
    "import pyspark"
   ]
  },
  {
   "cell_type": "code",
   "execution_count": 2,
   "metadata": {},
   "outputs": [],
   "source": [
    "from pyspark.sql import SparkSession"
   ]
  },
  {
   "cell_type": "code",
   "execution_count": 3,
   "metadata": {},
   "outputs": [],
   "source": [
    "spark = SparkSession.builder.appName('usecase_3').getOrCreate()"
   ]
  },
  {
   "cell_type": "code",
   "execution_count": 4,
   "metadata": {},
   "outputs": [],
   "source": [
    "sc = spark.sparkContext"
   ]
  },
  {
   "cell_type": "code",
   "execution_count": 5,
   "metadata": {},
   "outputs": [],
   "source": [
    "sc.setLogLevel('ERROR')"
   ]
  },
  {
   "cell_type": "markdown",
   "metadata": {},
   "source": [
    "#### HVAC Data"
   ]
  },
  {
   "cell_type": "code",
   "execution_count": 6,
   "metadata": {},
   "outputs": [],
   "source": [
    "hvac_df = spark.read.format('csv').options(header=True, inferSchema=True).load('Sensor data/HVAC.csv')"
   ]
  },
  {
   "cell_type": "code",
   "execution_count": 8,
   "metadata": {},
   "outputs": [
    {
     "name": "stdout",
     "output_type": "stream",
     "text": [
      "+------+-------+----------+----------+------+---------+----------+\n",
      "|  Date|   Time|TargetTemp|ActualTemp|System|SystemAge|BuildingID|\n",
      "+------+-------+----------+----------+------+---------+----------+\n",
      "|6/1/13|0:00:01|        66|        58|    13|       20|         4|\n",
      "|6/2/13|1:00:01|        69|        68|     3|       20|        17|\n",
      "|6/3/13|2:00:01|        70|        73|    17|       20|        18|\n",
      "|6/4/13|3:00:01|        67|        63|     2|       23|        15|\n",
      "|6/5/13|4:00:01|        68|        74|    16|        9|         3|\n",
      "+------+-------+----------+----------+------+---------+----------+\n",
      "only showing top 5 rows\n",
      "\n"
     ]
    }
   ],
   "source": [
    "hvac_df.show(5)"
   ]
  },
  {
   "cell_type": "code",
   "execution_count": 9,
   "metadata": {},
   "outputs": [],
   "source": [
    "hvac_df.createOrReplaceTempView('HVAC') "
   ]
  },
  {
   "cell_type": "code",
   "execution_count": 94,
   "metadata": {},
   "outputs": [],
   "source": [
    "hvac_1 = spark.sql('select *, CASE WHEN ABS(TargetTemp-ActualTemp)>5 THEN 1 ELSE 0 END AS tempchange FROM HVAC')"
   ]
  },
  {
   "cell_type": "code",
   "execution_count": 95,
   "metadata": {},
   "outputs": [
    {
     "name": "stdout",
     "output_type": "stream",
     "text": [
      "+------+-------+----------+----------+------+---------+----------+----------+\n",
      "|  Date|   Time|TargetTemp|ActualTemp|System|SystemAge|BuildingID|tempchange|\n",
      "+------+-------+----------+----------+------+---------+----------+----------+\n",
      "|6/1/13|0:00:01|        66|        58|    13|       20|         4|         1|\n",
      "|6/2/13|1:00:01|        69|        68|     3|       20|        17|         0|\n",
      "|6/3/13|2:00:01|        70|        73|    17|       20|        18|         0|\n",
      "|6/4/13|3:00:01|        67|        63|     2|       23|        15|         0|\n",
      "|6/5/13|4:00:01|        68|        74|    16|        9|         3|         1|\n",
      "+------+-------+----------+----------+------+---------+----------+----------+\n",
      "only showing top 5 rows\n",
      "\n"
     ]
    }
   ],
   "source": [
    "hvac_1.show(5)"
   ]
  },
  {
   "cell_type": "code",
   "execution_count": 96,
   "metadata": {},
   "outputs": [],
   "source": [
    "hvac_1.createOrReplaceTempView('HVAC1')"
   ]
  },
  {
   "cell_type": "code",
   "execution_count": null,
   "metadata": {},
   "outputs": [],
   "source": []
  },
  {
   "cell_type": "markdown",
   "metadata": {},
   "source": [
    "#### Building Data"
   ]
  },
  {
   "cell_type": "code",
   "execution_count": 97,
   "metadata": {},
   "outputs": [],
   "source": [
    "building_df = spark.read.format('csv').options(header=True, inferSchema=True).load('Sensor data/building.csv')"
   ]
  },
  {
   "cell_type": "code",
   "execution_count": 98,
   "metadata": {
    "scrolled": true
   },
   "outputs": [
    {
     "name": "stdout",
     "output_type": "stream",
     "text": [
      "+----------+-----------+-----------+-----------+---------+\n",
      "|BuildingID|BuildingMgr|BuildingAge|HVACproduct|  Country|\n",
      "+----------+-----------+-----------+-----------+---------+\n",
      "|         1|         M1|         25|     AC1000|      USA|\n",
      "|         2|         M2|         27|     FN39TG|   France|\n",
      "|         3|         M3|         28|     JDNS77|   Brazil|\n",
      "|         4|         M4|         17|     GG1919|  Finland|\n",
      "|         5|         M5|          3|    ACMAX22|Hong Kong|\n",
      "+----------+-----------+-----------+-----------+---------+\n",
      "only showing top 5 rows\n",
      "\n"
     ]
    }
   ],
   "source": [
    "building_df.show(5)"
   ]
  },
  {
   "cell_type": "code",
   "execution_count": 99,
   "metadata": {},
   "outputs": [],
   "source": [
    "building_df.createOrReplaceTempView('BUILDING')"
   ]
  },
  {
   "cell_type": "code",
   "execution_count": null,
   "metadata": {},
   "outputs": [],
   "source": []
  },
  {
   "cell_type": "code",
   "execution_count": 100,
   "metadata": {},
   "outputs": [],
   "source": [
    "final_df = spark.sql('SELECT h.*, b.BuildingAge, b.HVACproduct, b.Country FROM HVAC1 h JOIN BUILDING b on h.BuildingID = b.BuildingID WHERE h.tempchange=1')"
   ]
  },
  {
   "cell_type": "code",
   "execution_count": 101,
   "metadata": {},
   "outputs": [],
   "source": [
    "final_df.createOrReplaceTempView('BUILDINGS_HVAC')"
   ]
  },
  {
   "cell_type": "code",
   "execution_count": 102,
   "metadata": {
    "scrolled": true
   },
   "outputs": [
    {
     "name": "stdout",
     "output_type": "stream",
     "text": [
      "+----------+-------+\n",
      "|tempchange|Country|\n",
      "+----------+-------+\n",
      "|         1|Finland|\n",
      "|         1| Brazil|\n",
      "|         1|Finland|\n",
      "|         1| France|\n",
      "|         1|Finland|\n",
      "+----------+-------+\n",
      "only showing top 5 rows\n",
      "\n"
     ]
    }
   ],
   "source": [
    "final_df.select('tempchange','Country').show(5)"
   ]
  },
  {
   "cell_type": "markdown",
   "metadata": {},
   "source": [
    "### Country with more temperature variation"
   ]
  },
  {
   "cell_type": "code",
   "execution_count": 105,
   "metadata": {},
   "outputs": [
    {
     "name": "stdout",
     "output_type": "stream",
     "text": [
      "+---------+----------+\n",
      "|  Country|tempchange|\n",
      "+---------+----------+\n",
      "|  Finland|       473|\n",
      "|   France|       251|\n",
      "|Hong Kong|       248|\n",
      "|   Turkey|       243|\n",
      "|Indonesia|       243|\n",
      "+---------+----------+\n",
      "only showing top 5 rows\n",
      "\n"
     ]
    }
   ],
   "source": [
    "spark.sql(\"SELECT Country, count(tempchange) as tempchange FROM BUILDINGS_HVAC GROUP BY Country ORDER BY tempchange DESC\").show(5)"
   ]
  },
  {
   "cell_type": "markdown",
   "metadata": {},
   "source": [
    "### Closing Spark Session"
   ]
  },
  {
   "cell_type": "code",
   "execution_count": 106,
   "metadata": {},
   "outputs": [],
   "source": [
    "spark.stop()"
   ]
  }
 ],
 "metadata": {
  "kernelspec": {
   "display_name": "Python 3",
   "language": "python",
   "name": "python3"
  },
  "language_info": {
   "codemirror_mode": {
    "name": "ipython",
    "version": 3
   },
   "file_extension": ".py",
   "mimetype": "text/x-python",
   "name": "python",
   "nbconvert_exporter": "python",
   "pygments_lexer": "ipython3",
   "version": "3.7.4"
  }
 },
 "nbformat": 4,
 "nbformat_minor": 2
}
