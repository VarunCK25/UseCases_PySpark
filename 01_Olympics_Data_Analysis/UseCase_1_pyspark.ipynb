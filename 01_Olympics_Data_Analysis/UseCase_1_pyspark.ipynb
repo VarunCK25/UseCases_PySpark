{
 "cells": [
  {
   "cell_type": "code",
   "execution_count": 4,
   "metadata": {},
   "outputs": [
    {
     "name": "stdout",
     "output_type": "stream",
     "text": [
      "Collecting findspark\n",
      "  Using cached https://files.pythonhosted.org/packages/b1/c8/e6e1f6a303ae5122dc28d131b5a67c5eb87cbf8f7ac5b9f87764ea1b1e1e/findspark-1.3.0-py2.py3-none-any.whl\n",
      "Installing collected packages: findspark\n",
      "Successfully installed findspark-1.3.0\n"
     ]
    }
   ],
   "source": [
    "! pip install findspark"
   ]
  },
  {
   "cell_type": "code",
   "execution_count": 6,
   "metadata": {},
   "outputs": [],
   "source": [
    "import findspark"
   ]
  },
  {
   "cell_type": "code",
   "execution_count": 7,
   "metadata": {},
   "outputs": [],
   "source": [
    "findspark.init()"
   ]
  },
  {
   "cell_type": "code",
   "execution_count": 8,
   "metadata": {},
   "outputs": [],
   "source": [
    "import pyspark"
   ]
  },
  {
   "cell_type": "code",
   "execution_count": 9,
   "metadata": {},
   "outputs": [],
   "source": [
    "from pyspark.sql import SparkSession"
   ]
  },
  {
   "cell_type": "code",
   "execution_count": 10,
   "metadata": {},
   "outputs": [],
   "source": [
    "spark = SparkSession.builder.appName('usecase-1').getOrCreate()"
   ]
  },
  {
   "cell_type": "code",
   "execution_count": 11,
   "metadata": {},
   "outputs": [],
   "source": [
    "df = spark.read.format('csv').options(header=True, inferSchema=True, delimiter=',').load('OLYMPICS_SUMMER.csv')"
   ]
  },
  {
   "cell_type": "code",
   "execution_count": 12,
   "metadata": {},
   "outputs": [
    {
     "name": "stdout",
     "output_type": "stream",
     "text": [
      "+----+------+--------+----------+------------------+-------+------+--------------------+------+\n",
      "|Year|  City|   Sport|Discipline|           Athlete|Country|Gender|               Event| Medal|\n",
      "+----+------+--------+----------+------------------+-------+------+--------------------+------+\n",
      "|1896|Athens|Aquatics|  Swimming|     HAJOS, Alfred|    HUN|   Men|      100M Freestyle|  Gold|\n",
      "|1896|Athens|Aquatics|  Swimming|  HERSCHMANN, Otto|    AUT|   Men|      100M Freestyle|Silver|\n",
      "|1896|Athens|Aquatics|  Swimming| DRIVAS, Dimitrios|    GRE|   Men|100M Freestyle Fo...|Bronze|\n",
      "|1896|Athens|Aquatics|  Swimming|MALOKINIS, Ioannis|    GRE|   Men|100M Freestyle Fo...|  Gold|\n",
      "|1896|Athens|Aquatics|  Swimming|CHASAPIS, Spiridon|    GRE|   Men|100M Freestyle Fo...|Silver|\n",
      "+----+------+--------+----------+------------------+-------+------+--------------------+------+\n",
      "only showing top 5 rows\n",
      "\n"
     ]
    }
   ],
   "source": [
    "df.show(5)"
   ]
  },
  {
   "cell_type": "code",
   "execution_count": 15,
   "metadata": {},
   "outputs": [
    {
     "name": "stdout",
     "output_type": "stream",
     "text": [
      "+----+------+--------+----------+------------------+-------+------+--------------------+------+\n",
      "|Year|  City|   Sport|Discipline|           Athlete|Country|Gender|               Event| Medal|\n",
      "+----+------+--------+----------+------------------+-------+------+--------------------+------+\n",
      "|1896|Athens|Aquatics|  Swimming|     HAJOS, Alfred|    HUN|   Men|      100M Freestyle|  Gold|\n",
      "|1896|Athens|Aquatics|  Swimming|  HERSCHMANN, Otto|    AUT|   Men|      100M Freestyle|Silver|\n",
      "|1896|Athens|Aquatics|  Swimming| DRIVAS, Dimitrios|    GRE|   Men|100M Freestyle Fo...|Bronze|\n",
      "|1896|Athens|Aquatics|  Swimming|MALOKINIS, Ioannis|    GRE|   Men|100M Freestyle Fo...|  Gold|\n",
      "|1896|Athens|Aquatics|  Swimming|CHASAPIS, Spiridon|    GRE|   Men|100M Freestyle Fo...|Silver|\n",
      "+----+------+--------+----------+------------------+-------+------+--------------------+------+\n",
      "only showing top 5 rows\n",
      "\n"
     ]
    }
   ],
   "source": [
    "df.filter(df.Discipline == 'Swimming').show(5)"
   ]
  },
  {
   "cell_type": "code",
   "execution_count": 16,
   "metadata": {},
   "outputs": [
    {
     "data": {
      "text/plain": [
       "<pyspark.sql.group.GroupedData at 0x1f339c41648>"
      ]
     },
     "execution_count": 16,
     "metadata": {},
     "output_type": "execute_result"
    }
   ],
   "source": [
    "df.filter(df.Discipline == 'Swimming').groupBy('Country')"
   ]
  },
  {
   "cell_type": "code",
   "execution_count": 26,
   "metadata": {},
   "outputs": [
    {
     "data": {
      "text/plain": [
       "DataFrame[Country: string, count(Medal): bigint]"
      ]
     },
     "execution_count": 26,
     "metadata": {},
     "output_type": "execute_result"
    }
   ],
   "source": [
    "df.filter(df.Discipline == 'Swimming').groupBy('Country').agg({'Medal':'count'})"
   ]
  },
  {
   "cell_type": "code",
   "execution_count": 28,
   "metadata": {},
   "outputs": [
    {
     "name": "stdout",
     "output_type": "stream",
     "text": [
      "+-------+------------+\n",
      "|Country|count(Medal)|\n",
      "+-------+------------+\n",
      "|    POL|           6|\n",
      "|    BRA|          19|\n",
      "|    CUB|           2|\n",
      "|    FRA|          73|\n",
      "|    EUA|          27|\n",
      "+-------+------------+\n",
      "only showing top 5 rows\n",
      "\n"
     ]
    }
   ],
   "source": [
    "df.filter(df.Discipline == 'Swimming').groupBy('Country').agg({'Medal':'count'}).show(5)"
   ]
  },
  {
   "cell_type": "code",
   "execution_count": 29,
   "metadata": {},
   "outputs": [
    {
     "data": {
      "text/plain": [
       "DataFrame[Country: string, count(Medal): bigint]"
      ]
     },
     "execution_count": 29,
     "metadata": {},
     "output_type": "execute_result"
    }
   ],
   "source": [
    "df.filter(df.Discipline == 'Swimming').groupBy('Country').agg({'Medal':'count'}).orderBy('count(Medal)')"
   ]
  },
  {
   "cell_type": "code",
   "execution_count": 33,
   "metadata": {},
   "outputs": [],
   "source": [
    "from pyspark.sql.functions import desc"
   ]
  },
  {
   "cell_type": "code",
   "execution_count": 38,
   "metadata": {},
   "outputs": [
    {
     "data": {
      "text/plain": [
       "DataFrame[Country: string, count(Medal): bigint]"
      ]
     },
     "execution_count": 38,
     "metadata": {},
     "output_type": "execute_result"
    }
   ],
   "source": [
    "df.filter(df.Discipline == 'Swimming').groupBy('Country').agg({'Medal':'count'}).sort(desc('count(Medal)'))"
   ]
  },
  {
   "cell_type": "markdown",
   "metadata": {},
   "source": [
    "### 1) Find the total number of medals won by each country in swimming."
   ]
  },
  {
   "cell_type": "code",
   "execution_count": 39,
   "metadata": {},
   "outputs": [
    {
     "name": "stdout",
     "output_type": "stream",
     "text": [
      "+-------+------------+\n",
      "|Country|count(Medal)|\n",
      "+-------+------------+\n",
      "|    USA|         895|\n",
      "|    AUS|         343|\n",
      "|    GDR|         137|\n",
      "|    GER|         124|\n",
      "|    NED|         109|\n",
      "|    JPN|         109|\n",
      "|    GBR|         106|\n",
      "|    URS|          98|\n",
      "|    HUN|          80|\n",
      "|    CAN|          76|\n",
      "|    FRA|          73|\n",
      "|    CHN|          64|\n",
      "|    SWE|          64|\n",
      "|    FRG|          49|\n",
      "|    RUS|          39|\n",
      "|    EUN|          30|\n",
      "|    EUA|          27|\n",
      "|    RSA|          24|\n",
      "|    ITA|          22|\n",
      "|    BRA|          19|\n",
      "+-------+------------+\n",
      "only showing top 20 rows\n",
      "\n"
     ]
    }
   ],
   "source": [
    "df.filter(df.Discipline == 'Swimming').groupBy('Country').agg({'Medal':'count'}).sort(desc('count(Medal)')).show()"
   ]
  },
  {
   "cell_type": "markdown",
   "metadata": {},
   "source": [
    "### 2.Find the number of medals that India won year wise."
   ]
  },
  {
   "cell_type": "code",
   "execution_count": 41,
   "metadata": {},
   "outputs": [
    {
     "name": "stdout",
     "output_type": "stream",
     "text": [
      "+----+---------+---------+----------+--------------------+-------+------+------------+------+\n",
      "|Year|     City|    Sport|Discipline|             Athlete|Country|Gender|       Event| Medal|\n",
      "+----+---------+---------+----------+--------------------+-------+------+------------+------+\n",
      "|1900|    Paris|Athletics| Athletics|   PRITCHARD, Norman|    IND|   Men|        200M|Silver|\n",
      "|1900|    Paris|Athletics| Athletics|   PRITCHARD, Norman|    IND|   Men|200M Hurdles|Silver|\n",
      "|1928|Amsterdam|   Hockey|    Hockey|ALLEN, Richard James|    IND|   Men|      Hockey|  Gold|\n",
      "+----+---------+---------+----------+--------------------+-------+------+------------+------+\n",
      "only showing top 3 rows\n",
      "\n"
     ]
    }
   ],
   "source": [
    "df.filter(df.Country == 'IND').show(3)"
   ]
  },
  {
   "cell_type": "code",
   "execution_count": 43,
   "metadata": {},
   "outputs": [
    {
     "name": "stdout",
     "output_type": "stream",
     "text": [
      "+------+\n",
      "| Medal|\n",
      "+------+\n",
      "|Silver|\n",
      "|Silver|\n",
      "|  Gold|\n",
      "|  Gold|\n",
      "|  Gold|\n",
      "+------+\n",
      "only showing top 5 rows\n",
      "\n"
     ]
    }
   ],
   "source": [
    "df.filter(df.Country == 'IND').show(5)"
   ]
  },
  {
   "cell_type": "code",
   "execution_count": 52,
   "metadata": {},
   "outputs": [
    {
     "name": "stdout",
     "output_type": "stream",
     "text": [
      "+----+-----+\n",
      "|Year|count|\n",
      "+----+-----+\n",
      "|1952|   15|\n",
      "|1956|   17|\n",
      "|1968|   15|\n",
      "|2004|    1|\n",
      "|1932|   11|\n",
      "|1996|    1|\n",
      "|1960|   13|\n",
      "|2012|    6|\n",
      "|1936|   19|\n",
      "|1980|   16|\n",
      "|1972|   14|\n",
      "|1964|   15|\n",
      "|2000|    1|\n",
      "|2008|    3|\n",
      "|1948|   20|\n",
      "|1900|    2|\n",
      "|1928|   15|\n",
      "+----+-----+\n",
      "\n"
     ]
    }
   ],
   "source": [
    "df.filter(df.Country == 'IND').groupBy('Year').count().show()"
   ]
  },
  {
   "cell_type": "code",
   "execution_count": 54,
   "metadata": {},
   "outputs": [
    {
     "name": "stdout",
     "output_type": "stream",
     "text": [
      "+----+-----+\n",
      "|Year|count|\n",
      "+----+-----+\n",
      "|1900|    2|\n",
      "|1928|   15|\n",
      "|1932|   11|\n",
      "|1936|   19|\n",
      "|1948|   20|\n",
      "|1952|   15|\n",
      "|1956|   17|\n",
      "|1960|   13|\n",
      "|1964|   15|\n",
      "|1968|   15|\n",
      "|1972|   14|\n",
      "|1980|   16|\n",
      "|1996|    1|\n",
      "|2000|    1|\n",
      "|2004|    1|\n",
      "|2008|    3|\n",
      "|2012|    6|\n",
      "+----+-----+\n",
      "\n"
     ]
    }
   ],
   "source": [
    "df.filter(df.Country == 'IND').groupBy('Year').count().orderBy('Year').show()"
   ]
  },
  {
   "cell_type": "markdown",
   "metadata": {},
   "source": [
    "### 3.Find the total number of medals won by each country."
   ]
  },
  {
   "cell_type": "code",
   "execution_count": 56,
   "metadata": {},
   "outputs": [
    {
     "name": "stdout",
     "output_type": "stream",
     "text": [
      "+-------+------------+\n",
      "|Country|count(Medal)|\n",
      "+-------+------------+\n",
      "|    USA|        4585|\n",
      "|    URS|        2049|\n",
      "|    GBR|        1720|\n",
      "|    FRA|        1396|\n",
      "|    GER|        1305|\n",
      "+-------+------------+\n",
      "only showing top 5 rows\n",
      "\n"
     ]
    }
   ],
   "source": [
    "df.groupBy('Country').agg({'Medal':'count'}).sort(desc('count(Medal)')).show(5)"
   ]
  },
  {
   "cell_type": "code",
   "execution_count": null,
   "metadata": {},
   "outputs": [],
   "source": []
  }
 ],
 "metadata": {
  "kernelspec": {
   "display_name": "Python 3",
   "language": "python",
   "name": "python3"
  },
  "language_info": {
   "codemirror_mode": {
    "name": "ipython",
    "version": 3
   },
   "file_extension": ".py",
   "mimetype": "text/x-python",
   "name": "python",
   "nbconvert_exporter": "python",
   "pygments_lexer": "ipython3",
   "version": "3.7.4"
  }
 },
 "nbformat": 4,
 "nbformat_minor": 2
}
