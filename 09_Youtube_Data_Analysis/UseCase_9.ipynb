{
 "cells": [
  {
   "cell_type": "markdown",
   "metadata": {},
   "source": [
    "# Youtube Data Analysis"
   ]
  },
  {
   "cell_type": "markdown",
   "metadata": {},
   "source": [
    "This usecase is about analyzing the data of YouTube. This total analysis is performed using Apache Spark. This YouTube data is publicly available and the data set is described below under the heading Data Set Description.\n",
    "Using that dataset, we will perform some analysis and will draw out some insights, like what are the top 10 rated videos in YouTube and who uploaded the most number of videos."
   ]
  },
  {
   "cell_type": "markdown",
   "metadata": {},
   "source": [
    "**Data Set Description**\n",
    "\n",
    "- **Column 1:** Video id of 11 characters.\n",
    "\n",
    "- **Column 2:** Uploader of the video.\n",
    "\n",
    "- **Column 3:** Interval between day of establishment of YouTube and the date of uploading of the video.\n",
    "\n",
    "- **Column 4:** Category of the video.\n",
    "\n",
    "- **Column 5:** Length of the video.\n",
    "\n",
    "- **Column 6:** Number of views for the video.\n",
    "\n",
    "- **Column 7:** Rating on the video.\n",
    "\n",
    "- **Column 8:** Number of ratings given for the video\n",
    "\n",
    "- **Column 9:** Number of comments on the videos.\n",
    "\n",
    "- **Column 10:** Related video ids with the uploaded video."
   ]
  },
  {
   "cell_type": "markdown",
   "metadata": {},
   "source": [
    "## Initializing spark session"
   ]
  },
  {
   "cell_type": "code",
   "execution_count": 32,
   "metadata": {},
   "outputs": [],
   "source": [
    "import findspark\n",
    "findspark.init()\n",
    "import pyspark"
   ]
  },
  {
   "cell_type": "code",
   "execution_count": 33,
   "metadata": {},
   "outputs": [],
   "source": [
    "from pyspark.sql import SparkSession"
   ]
  },
  {
   "cell_type": "code",
   "execution_count": 34,
   "metadata": {},
   "outputs": [],
   "source": [
    "spark = SparkSession.builder.appName('usecase_9').getOrCreate()\n",
    "sc = spark.sparkContext\n",
    "sc.setLogLevel('ERROR')"
   ]
  },
  {
   "cell_type": "code",
   "execution_count": null,
   "metadata": {},
   "outputs": [],
   "source": []
  },
  {
   "cell_type": "markdown",
   "metadata": {},
   "source": [
    "### YouTube Data"
   ]
  },
  {
   "cell_type": "code",
   "execution_count": 35,
   "metadata": {},
   "outputs": [],
   "source": [
    "youtube_df = spark.read.format('csv').options(header=False, inferSchema=True, delimiter='\\t').load('youtubedata.txt')"
   ]
  },
  {
   "cell_type": "code",
   "execution_count": 36,
   "metadata": {},
   "outputs": [
    {
     "data": {
      "text/plain": [
       "4100"
      ]
     },
     "execution_count": 36,
     "metadata": {},
     "output_type": "execute_result"
    }
   ],
   "source": [
    "youtube_df.count()"
   ]
  },
  {
   "cell_type": "code",
   "execution_count": 37,
   "metadata": {},
   "outputs": [
    {
     "name": "stdout",
     "output_type": "stream",
     "text": [
      "root\n",
      " |-- _c0: string (nullable = true)\n",
      " |-- _c1: string (nullable = true)\n",
      " |-- _c2: double (nullable = true)\n",
      " |-- _c3: string (nullable = true)\n",
      " |-- _c4: integer (nullable = true)\n",
      " |-- _c5: integer (nullable = true)\n",
      " |-- _c6: double (nullable = true)\n",
      " |-- _c7: integer (nullable = true)\n",
      " |-- _c8: integer (nullable = true)\n",
      " |-- _c9: string (nullable = true)\n",
      " |-- _c10: string (nullable = true)\n",
      " |-- _c11: string (nullable = true)\n",
      " |-- _c12: string (nullable = true)\n",
      " |-- _c13: string (nullable = true)\n",
      " |-- _c14: string (nullable = true)\n",
      " |-- _c15: string (nullable = true)\n",
      " |-- _c16: string (nullable = true)\n",
      " |-- _c17: string (nullable = true)\n",
      " |-- _c18: string (nullable = true)\n",
      " |-- _c19: string (nullable = true)\n",
      " |-- _c20: string (nullable = true)\n",
      " |-- _c21: string (nullable = true)\n",
      " |-- _c22: string (nullable = true)\n",
      "\n"
     ]
    }
   ],
   "source": [
    "youtube_df.printSchema()"
   ]
  },
  {
   "cell_type": "code",
   "execution_count": 38,
   "metadata": {
    "scrolled": true
   },
   "outputs": [
    {
     "name": "stdout",
     "output_type": "stream",
     "text": [
      "+-----------+--------------------+------+--------------+---+----+----+---+---+-----------+-----------+-----------+-----------+-----------+-----------+-----------+-----------+-----------+-----------+-----------+-----------+-----------+-----------+\n",
      "|        _c0|                 _c1|   _c2|           _c3|_c4| _c5| _c6|_c7|_c8|        _c9|       _c10|       _c11|       _c12|       _c13|       _c14|       _c15|       _c16|       _c17|       _c18|       _c19|       _c20|       _c21|       _c22|\n",
      "+-----------+--------------------+------+--------------+---+----+----+---+---+-----------+-----------+-----------+-----------+-----------+-----------+-----------+-----------+-----------+-----------+-----------+-----------+-----------+-----------+\n",
      "|QuRYeRnAuXM|EvilSquirrelPictures|1135.0|Pets & Animals|252|1075|4.96| 46| 86|gFa1YMEJFag|nRcovJn9xHg|3TYqkBJ9YRk|rSJ8QZWBegU|0TZqX5MbXMA|UEvVksP91kg|ZTopArY7Nbg|0RViGi2Rne8|HT_QlOJbDpg|YZev1imoxX8|8qQrrfUTmh0|zQ83d_D2MGs|u6_DQQjLsAw|73Wz9CQFDtE|\n",
      "|3TYqkBJ9YRk|              hggh22|1135.0|        Comedy|169| 228| 5.0|  5|  3|QuRYeRnAuXM|gFa1YMEJFag|UEvVksP91kg|rSJ8QZWBegU|nRcovJn9xHg|sVkuOk4jmCo|ZTopArY7Nbg|HT_QlOJbDpg|0RViGi2Rne8|ShhClb6J-NA|g9e1alirMhc|YZev1imoxX8|I4yKEK9o8gA|zQ83d_D2MGs|\n",
      "|rSJ8QZWBegU|             TimeGem|1135.0| Entertainment| 95| 356|4.31| 13|  1|QuRYeRnAuXM|gFa1YMEJFag|UEvVksP91kg|3TYqkBJ9YRk|nRcovJn9xHg|sVkuOk4jmCo|ZTopArY7Nbg|gBcu22Vv1nY|HT_QlOJbDpg|0RViGi2Rne8|ShhClb6J-NA|g9e1alirMhc|YZev1imoxX8|I4yKEK9o8gA|\n",
      "+-----------+--------------------+------+--------------+---+----+----+---+---+-----------+-----------+-----------+-----------+-----------+-----------+-----------+-----------+-----------+-----------+-----------+-----------+-----------+-----------+\n",
      "only showing top 3 rows\n",
      "\n"
     ]
    }
   ],
   "source": [
    "youtube_df.show(3)"
   ]
  },
  {
   "cell_type": "code",
   "execution_count": 39,
   "metadata": {},
   "outputs": [],
   "source": [
    "from pyspark.sql.functions import desc"
   ]
  },
  {
   "cell_type": "code",
   "execution_count": null,
   "metadata": {},
   "outputs": [],
   "source": []
  },
  {
   "cell_type": "markdown",
   "metadata": {},
   "source": [
    "### Problem Statement 1: Find out what are the top five categories with maximum number of videos uploaded."
   ]
  },
  {
   "cell_type": "code",
   "execution_count": 40,
   "metadata": {},
   "outputs": [],
   "source": [
    "youtube_df = youtube_df.withColumnRenamed('_c3','category')"
   ]
  },
  {
   "cell_type": "code",
   "execution_count": 41,
   "metadata": {},
   "outputs": [
    {
     "name": "stdout",
     "output_type": "stream",
     "text": [
      "+---------------+-----+\n",
      "|       category|count|\n",
      "+---------------+-----+\n",
      "|  Entertainment|  908|\n",
      "|          Music|  862|\n",
      "|         Comedy|  414|\n",
      "| People & Blogs|  398|\n",
      "|News & Politics|  333|\n",
      "+---------------+-----+\n",
      "only showing top 5 rows\n",
      "\n"
     ]
    }
   ],
   "source": [
    "youtube_df.groupBy('category').count().orderBy(desc('count')).show(5)"
   ]
  },
  {
   "cell_type": "code",
   "execution_count": null,
   "metadata": {},
   "outputs": [],
   "source": []
  },
  {
   "cell_type": "markdown",
   "metadata": {},
   "source": [
    "### Problem Statement 2: Find the top 10 rated videos in YouTube."
   ]
  },
  {
   "cell_type": "code",
   "execution_count": 42,
   "metadata": {},
   "outputs": [],
   "source": [
    "youtube_df = youtube_df.withColumnRenamed('_c0','video_id').withColumnRenamed('_c6','Rating')"
   ]
  },
  {
   "cell_type": "code",
   "execution_count": 43,
   "metadata": {},
   "outputs": [
    {
     "name": "stdout",
     "output_type": "stream",
     "text": [
      "+-----------+------+\n",
      "|   video_id|rating|\n",
      "+-----------+------+\n",
      "|QuRYeRnAuXM|  4.96|\n",
      "|3TYqkBJ9YRk|   5.0|\n",
      "|rSJ8QZWBegU|  4.31|\n",
      "+-----------+------+\n",
      "only showing top 3 rows\n",
      "\n"
     ]
    }
   ],
   "source": [
    "youtube_df.select('video_id','rating').show(3)"
   ]
  },
  {
   "cell_type": "code",
   "execution_count": 44,
   "metadata": {},
   "outputs": [
    {
     "name": "stdout",
     "output_type": "stream",
     "text": [
      "+-----------+-----------+\n",
      "|   video_id|sum(Rating)|\n",
      "+-----------+-----------+\n",
      "|FG-j841ezPw|        5.0|\n",
      "|GCeXFaL24UA|        5.0|\n",
      "|ENmQiCV_N1c|        5.0|\n",
      "|4dK-9jLPGqc|        5.0|\n",
      "|i8Jtlmtz6rE|        5.0|\n",
      "|TaLUDgZTp6E|        5.0|\n",
      "|Hg47-CwiP-I|        5.0|\n",
      "|nUu52z7Jo6w|        5.0|\n",
      "|pEbK3C7bZxU|        5.0|\n",
      "|ZzuGxkWLops|        5.0|\n",
      "+-----------+-----------+\n",
      "only showing top 10 rows\n",
      "\n"
     ]
    }
   ],
   "source": [
    "youtube_df.groupBy('video_id').agg({'Rating':'sum'}).orderBy(desc('sum(Rating)')).show(10)"
   ]
  },
  {
   "cell_type": "code",
   "execution_count": null,
   "metadata": {},
   "outputs": [],
   "source": []
  },
  {
   "cell_type": "markdown",
   "metadata": {},
   "source": [
    "## Closing Spark Session"
   ]
  },
  {
   "cell_type": "code",
   "execution_count": 45,
   "metadata": {},
   "outputs": [],
   "source": [
    "spark.stop()"
   ]
  }
 ],
 "metadata": {
  "kernelspec": {
   "display_name": "Python 3",
   "language": "python",
   "name": "python3"
  },
  "language_info": {
   "codemirror_mode": {
    "name": "ipython",
    "version": 3
   },
   "file_extension": ".py",
   "mimetype": "text/x-python",
   "name": "python",
   "nbconvert_exporter": "python",
   "pygments_lexer": "ipython3",
   "version": "3.7.4"
  }
 },
 "nbformat": 4,
 "nbformat_minor": 2
}
